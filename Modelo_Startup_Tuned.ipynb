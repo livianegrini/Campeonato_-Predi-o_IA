{
 "cells": [
  {
   "cell_type": "markdown",
   "id": "f09ddf26",
   "metadata": {},
   "source": [
    "# Modelo de Classificação para Startups\n",
    "Este notebook apresenta todo o fluxo de pré-processamento, engenharia de atributos, seleção de variáveis, modelagem e avaliação de classificadores para prever a variável de interesse `labels`. O pipeline utiliza técnicas avançadas de Machine Learning, incluindo `StackingClassifier` com RandomizedSearchCV para ajuste de hiperparâmetros."
   ]
  },
  {
   "cell_type": "markdown",
   "id": "bc7069f1",
   "metadata": {},
   "source": [
    "## 1) Importação das Bibliotecas"
   ]
  },
  {
   "cell_type": "code",
   "execution_count": null,
   "id": "4f912147",
   "metadata": {},
   "outputs": [],
   "source": [
    "# Importação de bibliotecas essenciais para manipulação de dados\n",
    "import pandas as pd          # Análise e manipulação de dados em tabelas (DataFrames)\n",
    "import numpy as np           # Cálculos numéricos e matrizes\n",
    "import matplotlib.pyplot as plt  # Visualização de gráficos\n",
    "import seaborn as sns        # Visualização estatística com gráficos mais elaborados\n",
    "\n",
    "# Ferramentas de machine learning do scikit-learn\n",
    "from sklearn.model_selection import train_test_split, StratifiedKFold, RandomizedSearchCV  # divisão de dados e validação cruzada\n",
    "from sklearn.preprocessing import StandardScaler, PolynomialFeatures  # normalização e criação de features polinomiais\n",
    "from sklearn.compose import ColumnTransformer   # aplicar transformações em colunas específicas\n",
    "from sklearn.pipeline import Pipeline           # encadear etapas em um fluxo de processamento\n",
    "from sklearn.impute import SimpleImputer        # tratamento de valores ausentes (missing values)\n",
    "from sklearn.metrics import accuracy_score, classification_report, confusion_matrix  # métricas de avaliação\n",
    "\n",
    "# Modelos de classificação\n",
    "from sklearn.ensemble import RandomForestClassifier, HistGradientBoostingClassifier, StackingClassifier\n",
    "from sklearn.linear_model import LogisticRegression\n",
    "\n",
    "# Seleção de features com base na importância\n",
    "from sklearn.feature_selection import SelectFromModel\n",
    "\n",
    "# Supressão de avisos para manter o notebook limpo\n",
    "import warnings\n",
    "warnings.filterwarnings(\"ignore\")\n",
    "\n",
    "# Definição de semente aleatória para reprodutibilidade dos resultados\n",
    "RANDOM_STATE = 42\n",
    "np.random.seed(RANDOM_STATE)\n",
    "\n"
   ]
  },
  {
   "cell_type": "markdown",
   "id": "382a24f8",
   "metadata": {},
   "source": [
    "## 2) Leitura dos Dados"
   ]
  },
  {
   "cell_type": "code",
   "execution_count": null,
   "id": "6605475c",
   "metadata": {},
   "outputs": [
    {
     "name": "stdout",
     "output_type": "stream",
     "text": [
      "Shape do treino: (646, 33)\n",
      "Shape do teste: (277, 32)\n",
      "Distribuição dos labels:\n",
      " labels\n",
      "1    418\n",
      "0    228\n",
      "Name: count, dtype: int64\n"
     ]
    }
   ],
   "source": [
    "# Leitura dos conjuntos de dados\n",
    "train = pd.read_csv('train.csv')           # Dados de treino\n",
    "test = pd.read_csv('test.csv')             # Dados de teste\n",
    "submission = pd.read_csv('sample_submission.csv')  # Arquivo de submissão de exemplo\n",
    "\n",
    "# Exibe informações básicas sobre os dados\n",
    "print(\"Shape do treino:\", train.shape)     # Dimensão (linhas x colunas) do treino\n",
    "print(\"Shape do teste:\", test.shape)       # Dimensão do teste\n",
    "print(\"Distribuição dos labels:\\n\", train['labels'].value_counts())  # Frequência de cada classe alvo"
   ]
  },
  {
   "cell_type": "markdown",
   "id": "3504dd1c",
   "metadata": {},
   "source": [
    "## 3) Limpeza e Tratamento de Nulos"
   ]
  },
  {
   "cell_type": "code",
   "execution_count": null,
   "id": "2f34e752",
   "metadata": {},
   "outputs": [],
   "source": [
    "\n",
    "# Tratamento de valores ausentes (nulos) em treino e teste\n",
    "for df in (train, test):\n",
    "    df['funding_total_usd'] = df['funding_total_usd'].fillna(0)   # Substitui nulos por 0\n",
    "    df['avg_participants'] = df['avg_participants'].fillna(0)\n",
    "    df['funding_rounds'] = df['funding_rounds'].fillna(0)\n",
    "    df['milestones'] = df['milestones'].fillna(0)\n",
    "    df['relationships'] = df['relationships'].fillna(0)\n",
    "\n",
    "    # Garante que as colunas de localização existam e estejam sem nulos\n",
    "    for col in ['is_CA','is_NY','is_MA','is_TX','is_otherstate']:\n",
    "        if col not in df.columns:   # Se a coluna não existir, cria com valor 0\n",
    "            df[col] = 0\n",
    "        else:                       # Se existir, preenche nulos com 0\n",
    "            df[col] = df[col].fillna(0)\n"
   ]
  },
  {
   "cell_type": "markdown",
   "id": "8a8359fe",
   "metadata": {},
   "source": [
    "## 4) Engenharia de Features"
   ]
  },
  {
   "cell_type": "code",
   "execution_count": null,
   "id": "5c11cd82",
   "metadata": {},
   "outputs": [],
   "source": [
    "# Função para criar novas variáveis (engenharia de features)\n",
    "def create_features(df):\n",
    "    df = df.copy()\n",
    "\n",
    "    # Transformações matemáticas e logarítmicas\n",
    "    df['funding_total_usd_log'] = np.log1p(df['funding_total_usd'])   # Escala log do funding\n",
    "    df['sqrt_funding'] = np.sqrt(df['funding_total_usd'])             # Raiz quadrada do funding\n",
    "    df['log_participants'] = np.log1p(df['avg_participants'])         # Escala log dos participantes\n",
    "\n",
    "    # Durações de eventos\n",
    "    df['funding_duration'] = df['age_last_funding_year'] - df['age_first_funding_year']\n",
    "    df['milestone_duration'] = df['age_last_milestone_year'] - df['age_first_milestone_year']\n",
    "\n",
    "    # Razões e médias\n",
    "    df['avg_funding_per_round'] = df['funding_total_usd'] / (df['funding_rounds'] + 1)\n",
    "    df['relationships_per_milestone'] = df['relationships'] / (df['milestones'] + 1)\n",
    "    df['funding_per_participant'] = df['funding_total_usd'] / (df['avg_participants'] + 1)\n",
    "\n",
    "    # Indicadores binários\n",
    "    df['has_funding'] = (df['funding_total_usd'] > 0).astype(int)\n",
    "    df['has_milestone'] = (df['milestones'] > 0).astype(int)\n",
    "    df['has_relationships'] = (df['relationships'] > 0).astype(int)\n",
    "\n",
    "    # Interações entre variáveis de localização e funding\n",
    "    df['ca_funding_inter'] = df['is_CA'] * df['funding_total_usd_log']\n",
    "    df['ny_funding_inter'] = df['is_NY'] * df['funding_total_usd_log']\n",
    "\n",
    "    # Razão entre duração de funding e milestones\n",
    "    df['duration_ratio'] = np.where(df['milestone_duration'] != 0,\n",
    "                                    df['funding_duration'] / (df['milestone_duration'] + 1e-6),\n",
    "                                    0.0)\n",
    "\n",
    "    return df\n",
    "\n",
    "# Aplica a criação de features em treino e teste\n",
    "train = create_features(train)\n",
    "test = create_features(test)\n"
   ]
  },
  {
   "cell_type": "markdown",
   "id": "86da7d16",
   "metadata": {},
   "source": [
    "## 5) Codificação de Variáveis Categóricas"
   ]
  },
  {
   "cell_type": "code",
   "execution_count": null,
   "id": "72965757",
   "metadata": {},
   "outputs": [],
   "source": [
    "# Define o número de categorias mais frequentes que serão mantidas\n",
    "TOP_K = 30\n",
    "top_cats = train['category_code'].value_counts().nlargest(TOP_K).index.tolist()\n",
    "\n",
    "# Substitui categorias pouco frequentes por \"__other__\"\n",
    "train['category_top'] = train['category_code'].where(train['category_code'].isin(top_cats), other='__other__')\n",
    "test['category_top'] = test['category_code'].where(test['category_code'].isin(top_cats), other='__other__')\n",
    "\n",
    "# Função de target encoding (codifica categorias pela média do target em K-folds)\n",
    "def target_encode_oof(train_df, target, cat_col, n_splits=5, random_state=RANDOM_STATE):\n",
    "    train_idx = train_df.index\n",
    "    oof = pd.Series(index=train_idx, dtype=float)\n",
    "    skf = StratifiedKFold(n_splits=n_splits, shuffle=True, random_state=random_state)\n",
    "    y = target\n",
    "\n",
    "    # Para cada divisão do K-fold, calcula a média do target por categoria\n",
    "    for tr_idx, val_idx in skf.split(train_df, y):\n",
    "        tr_cat = train_df.iloc[tr_idx][cat_col]\n",
    "        tr_y = y.iloc[tr_idx]\n",
    "        means = tr_y.groupby(tr_cat).mean()\n",
    "        oof.iloc[val_idx] = train_df.iloc[val_idx][cat_col].map(means).fillna(y.mean())\n",
    "\n",
    "    # Média geral por categoria em todo o dataset\n",
    "    whole_means = y.groupby(train_df[cat_col]).mean().to_dict()\n",
    "    return oof, whole_means, y.mean()\n",
    "\n",
    "# Aplica target encoding no treino (com OOF) e no teste (mapa aprendido no treino)\n",
    "oof_te, te_map, global_mean = target_encode_oof(train, train['labels'], 'category_top')\n",
    "train['category_te'] = oof_te\n",
    "test['category_te'] = test['category_top'].map(te_map).fillna(global_mean)\n",
    "\n",
    "# Cria codificação por frequência da categoria\n",
    "freq_map = train['category_top'].value_counts(normalize=True).to_dict()\n",
    "train['category_freq'] = train['category_top'].map(freq_map).fillna(0.0)\n",
    "test['category_freq'] = test['category_top'].map(freq_map).fillna(0.0)\n",
    "\n"
   ]
  },
  {
   "cell_type": "markdown",
   "id": "a03f3e8b",
   "metadata": {},
   "source": [
    "## 6) Tratamento de Outliers"
   ]
  },
  {
   "cell_type": "code",
   "execution_count": null,
   "id": "ff422af2",
   "metadata": {},
   "outputs": [],
   "source": [
    "# Lista das colunas numéricas que serão tratadas para reduzir o impacto de outliers\n",
    "numeric_for_clip = ['funding_total_usd','avg_participants','avg_funding_per_round',\n",
    "                    'funding_per_participant','sqrt_funding','funding_total_usd_log']\n",
    "\n",
    "# Loop sobre cada coluna numérica da lista\n",
    "for col in numeric_for_clip:\n",
    "    # Calcula o percentil de 1% da coluna (limite inferior)\n",
    "    low = train[col].quantile(0.01)\n",
    "    \n",
    "    # Calcula o percentil de 99% da coluna (limite superior)\n",
    "    high = train[col].quantile(0.99)\n",
    "    \n",
    "    # Aplica o clipping: valores abaixo de 'low' se tornam 'low', valores acima de 'high' se tornam 'high'\n",
    "    train[col] = train[col].clip(low, high)\n",
    "\n"
   ]
  },
  {
   "cell_type": "markdown",
   "id": "5c765676",
   "metadata": {},
   "source": [
    "## 7) Preparação das Variáveis de Entrada (X) e Saída (y)"
   ]
  },
  {
   "cell_type": "code",
   "execution_count": null,
   "id": "06f83706",
   "metadata": {},
   "outputs": [],
   "source": [
    "# Preparação de X e y\n",
    "# Lista das variáveis numéricas e categóricas já transformadas (features) que serão usadas como entrada do modelo\n",
    "num_features = [\n",
    "    'age_first_funding_year','age_last_funding_year',      # Idade da empresa no primeiro e último financiamento\n",
    "    'age_first_milestone_year','age_last_milestone_year',  # Idade da empresa no primeiro e último marco\n",
    "    'relationships','funding_rounds','funding_total_usd_log',  # Quantidade de relacionamentos, rodadas de financiamento e log do total financiado\n",
    "    'milestones','avg_participants',                       # Número de marcos alcançados e média de participantes\n",
    "    'funding_duration','milestone_duration',               # Duração total de financiamento e duração até marcos\n",
    "    'avg_funding_per_round','relationships_per_milestone','funding_per_participant',  # Médias calculadas por rodada/marco/participante\n",
    "    'sqrt_funding','log_participants','duration_ratio',    # Transformações de variáveis e relação entre durações\n",
    "    'ca_funding_inter','ny_funding_inter',                # Interações geográficas com financiamento (ex.: CA, NY)\n",
    "    'has_funding','has_milestone','has_relationships',    # Flags indicando presença de certas informações\n",
    "    'is_CA','is_NY','is_MA','is_TX','is_otherstate'       # Variáveis dummy de estados\n",
    "]\n",
    "\n",
    "# Cria a matriz de features para o conjunto de treino\n",
    "# Inclui as variáveis numéricas, codificações de categoria e frequência\n",
    "X = train[num_features + ['category_te','category_freq']]\n",
    "\n",
    "# Define a variável alvo (labels) para o modelo\n",
    "y = train['labels']\n",
    "\n",
    "# Cria a matriz de features para o conjunto de teste\n",
    "# Mantém consistência com o treino, incluindo as mesmas colunas\n",
    "X_test = test[num_features + ['category_te','category_freq']]\n"
   ]
  },
  {
   "cell_type": "markdown",
   "id": "0008a763",
   "metadata": {},
   "source": [
    "## 8) Pré-processamento e Pipeline de Modelagem"
   ]
  },
  {
   "cell_type": "code",
   "execution_count": null,
   "id": "6654bdc1",
   "metadata": {},
   "outputs": [],
   "source": [
    "\n",
    "\n",
    "\n",
    "# Preprocessamento e pipeline\n",
    "\n",
    "# Pipeline para pré-processamento das variáveis numéricas\n",
    "num_pipeline = Pipeline([\n",
    "    # Substitui valores ausentes pela mediana da coluna\n",
    "    ('imputer', SimpleImputer(strategy='median')),\n",
    "    \n",
    "    # Cria features polinomiais de grau 2, considerando apenas interações entre variáveis\n",
    "    # Não inclui o termo de bias (coluna de 1s)\n",
    "    ('poly', PolynomialFeatures(degree=2, interaction_only=True, include_bias=False)),\n",
    "    \n",
    "    # Padroniza as features (média=0, desvio padrão=1)\n",
    "    ('scaler', StandardScaler())\n",
    "])\n",
    "\n",
    "# Aplica o pipeline numérico a todas as colunas de X\n",
    "# 'remainder=drop' descarta colunas não numéricas\n",
    "preprocessor = ColumnTransformer([('num', num_pipeline, X.columns.tolist())], remainder='drop')\n",
    "\n",
    "# Seleção de features baseada na importância de um modelo (Random Forest)\n",
    "# Mantém apenas features acima do limiar da mediana\n",
    "selector = SelectFromModel(\n",
    "    RandomForestClassifier(\n",
    "        n_estimators=800,           # Número de árvores\n",
    "        class_weight='balanced',    # Ajusta pesos para classes desbalanceadas\n",
    "        random_state=RANDOM_STATE\n",
    "    ),\n",
    "    threshold='median'              # Seleciona features com importância acima da mediana\n",
    ")\n",
    "\n",
    "# Três estimadores base para o stacking ensemble\n",
    "est1 = HistGradientBoostingClassifier(\n",
    "    max_iter=1000,\n",
    "    learning_rate=0.02,\n",
    "    max_depth=8,\n",
    "    random_state=RANDOM_STATE\n",
    ")\n",
    "est2 = HistGradientBoostingClassifier(\n",
    "    max_iter=700,\n",
    "    learning_rate=0.03,\n",
    "    max_depth=6,\n",
    "    random_state=RANDOM_STATE+1\n",
    ")\n",
    "est3 = RandomForestClassifier(\n",
    "    n_estimators=1200,\n",
    "    max_depth=None,\n",
    "    max_features='sqrt',\n",
    "    class_weight='balanced',\n",
    "    random_state=RANDOM_STATE+2\n",
    ")\n",
    "\n",
    "# Estimador final do stacking (Logistic Regression)\n",
    "final_est = LogisticRegression(\n",
    "    max_iter=5000,\n",
    "    class_weight='balanced',\n",
    "    random_state=RANDOM_STATE\n",
    ")\n",
    "\n",
    "# Stacking Classifier: combina os três estimadores base, usando a regressão logística para a predição final\n",
    "stack = StackingClassifier(\n",
    "    estimators=[('hgb1', est1), ('hgb2', est2), ('rf', est3)],\n",
    "    final_estimator=final_est,\n",
    "    n_jobs=-1,       # Usa todos os núcleos disponíveis\n",
    "    passthrough=False # Não adiciona as features originais ao final para o estimador final\n",
    ")\n",
    "\n",
    "# Pipeline final: combina pré-processamento, seleção de features e modelo ensemble\n",
    "pipeline = Pipeline([\n",
    "    ('preproc', preprocessor),  # Pré-processamento\n",
    "    ('select', selector),       # Seleção de features\n",
    "    ('stack', stack)            # Modelo final (stacking ensemble)\n",
    "])\n"
   ]
  },
  {
   "cell_type": "markdown",
   "id": "88a1ca58",
   "metadata": {},
   "source": [
    "## 9) Divisão Treino/Validação"
   ]
  },
  {
   "cell_type": "code",
   "execution_count": null,
   "id": "e0a030f6",
   "metadata": {},
   "outputs": [],
   "source": [
    "# Divide os dados em conjuntos de treino e validação\n",
    "# X e y são as features e labels do conjunto de treino completo\n",
    "# test_size=0.2 define que 20% dos dados serão usados para validação\n",
    "# stratify=y mantém a proporção original das classes nos dois conjuntos\n",
    "# random_state garante que a divisão seja reproduzível\n",
    "X_train, X_val, y_train, y_val = train_test_split(X, y, test_size=0.2, stratify=y, random_state=RANDOM_STATE)"
   ]
  },
  {
   "cell_type": "markdown",
   "id": "3a4da1de",
   "metadata": {},
   "source": [
    "## 10) Ajuste de Hiperparâmetros com RandomizedSearchCV"
   ]
  },
  {
   "cell_type": "code",
   "execution_count": null,
   "id": "0c5089a2",
   "metadata": {},
   "outputs": [
    {
     "name": "stdout",
     "output_type": "stream",
     "text": [
      "Fitting 3 folds for each of 25 candidates, totalling 75 fits\n",
      "Melhores parâmetros encontrados:\n",
      "{'stack__rf__n_estimators': 500, 'stack__rf__max_features': 'log2', 'stack__rf__max_depth': 10, 'stack__hgb2__min_samples_leaf': 30, 'stack__hgb2__max_depth': 6, 'stack__hgb2__learning_rate': 0.03, 'stack__hgb1__min_samples_leaf': 10, 'stack__hgb1__max_depth': 10, 'stack__hgb1__learning_rate': 0.02, 'stack__final_estimator__solver': 'saga', 'stack__final_estimator__penalty': 'l2', 'stack__final_estimator__C': 1}\n"
     ]
    }
   ],
   "source": [
    "# Define o espaço de busca dos hiperparâmetros para o RandomizedSearchCV\n",
    "# Os parâmetros usam a notação 'nome_do_step__nome_do_modelo__nome_do_parametro'\n",
    "param_dist = {\n",
    "    # Hiperparâmetros do primeiro HistGradientBoosting (hgb1) do stack\n",
    "    \"stack__hgb1__max_depth\": [4, 6, 8, 10],          # profundidade máxima das árvores\n",
    "    \"stack__hgb1__learning_rate\": [0.01, 0.02, 0.05], # taxa de aprendizado\n",
    "    \"stack__hgb1__min_samples_leaf\": [10, 20, 30],    # mínimo de amostras por folha\n",
    "    \n",
    "    # Hiperparâmetros do segundo HistGradientBoosting (hgb2) do stack\n",
    "    \"stack__hgb2__max_depth\": [4, 6, 8],\n",
    "    \"stack__hgb2__learning_rate\": [0.01, 0.03, 0.05],\n",
    "    \"stack__hgb2__min_samples_leaf\": [10, 20, 30],\n",
    "    \n",
    "    # Hiperparâmetros do Random Forest (rf) do stack\n",
    "    \"stack__rf__n_estimators\": [500, 800, 1200],      # número de árvores\n",
    "    \"stack__rf__max_depth\": [None, 10, 20],          # profundidade máxima\n",
    "    \"stack__rf__max_features\": [\"sqrt\", \"log2\"],     # número de features consideradas em cada divisão\n",
    "    \n",
    "    # Hiperparâmetros do estimador final (Logistic Regression) do stack\n",
    "    \"stack__final_estimator__C\": [0.1, 1, 10],       # regularização\n",
    "    \"stack__final_estimator__penalty\": [\"l2\"],       # tipo de penalização\n",
    "    \"stack__final_estimator__solver\": [\"lbfgs\", \"saga\"], # algoritmo de otimização\n",
    "}\n",
    "\n",
    "# Cria o RandomizedSearchCV para buscar os melhores hiperparâmetros\n",
    "random_search = RandomizedSearchCV(\n",
    "    pipeline,                  # pipeline que inclui pré-processamento, seleção e stack\n",
    "    param_distributions=param_dist, # espaço de busca definido acima\n",
    "    n_iter=25,                 # número de combinações aleatórias testadas\n",
    "    cv=3,                      # 3-fold cross-validation\n",
    "    scoring=\"accuracy\",        # métrica usada para avaliar o desempenho\n",
    "    verbose=2,                 # imprime informações detalhadas do progresso\n",
    "    random_state=RANDOM_STATE, # garante reproducibilidade\n",
    "    n_jobs=-1                  # usa todos os núcleos disponíveis\n",
    ")\n",
    "\n",
    "# Ajusta o RandomizedSearchCV nos dados de treino\n",
    "random_search.fit(X_train, y_train)\n",
    "\n",
    "# Exibe os melhores parâmetros encontrados na busca\n",
    "print(\"Melhores parâmetros encontrados:\")\n",
    "print(random_search.best_params_)"
   ]
  },
  {
   "cell_type": "markdown",
   "id": "903f1c3c",
   "metadata": {},
   "source": [
    "## 11) Avaliação do Modelo"
   ]
  },
  {
   "cell_type": "code",
   "execution_count": null,
   "id": "18f387eb",
   "metadata": {},
   "outputs": [
    {
     "name": "stdout",
     "output_type": "stream",
     "text": [
      "Acurácia após tuning: 0.8077\n",
      "\n",
      "Relatório de classificação:\n",
      "              precision    recall  f1-score   support\n",
      "\n",
      "           0       0.77      0.65      0.71        46\n",
      "           1       0.82      0.89      0.86        84\n",
      "\n",
      "    accuracy                           0.81       130\n",
      "   macro avg       0.80      0.77      0.78       130\n",
      "weighted avg       0.80      0.81      0.80       130\n",
      "\n"
     ]
    },
    {
     "data": {
      "image/png": "[encoded data removed]",
      "text/plain": [
       "<Figure size 600x500 with 2 Axes>"
      ]
     },
     "metadata": {},
     "output_type": "display_data"
    }
   ],
   "source": [
    "# Faz a predição nos dados de validação usando o modelo ajustado pelo RandomizedSearchCV\n",
    "y_val_pred = random_search.predict(X_val)\n",
    "\n",
    "# Calcula a acurácia do modelo no conjunto de validação\n",
    "acc_val = accuracy_score(y_val, y_val_pred)\n",
    "print(f\"Acurácia após tuning: {acc_val:.4f}\")  # exibe a acurácia com 4 casas decimais\n",
    "\n",
    "# Exibe métricas detalhadas de classificação, como precisão, recall e f1-score por classe\n",
    "print(\"\\nRelatório de classificação:\")\n",
    "print(classification_report(y_val, y_val_pred))\n",
    "\n",
    "# Plota a matriz de confusão para visualizar erros de classificação\n",
    "plt.figure(figsize=(6,5))\n",
    "sns.heatmap(confusion_matrix(y_val, y_val_pred), annot=True, fmt='d')  # fmt='d' mostra números inteiros\n",
    "plt.title(\"Matriz de Confusão\")\n",
    "plt.show()"
   ]
  },
  {
   "cell_type": "markdown",
   "id": "7d377f16",
   "metadata": {},
   "source": [
    "## 12) Predição Final e Geração de CSV"
   ]
  },
  {
   "cell_type": "code",
   "execution_count": null,
   "id": "0cfa1f81",
   "metadata": {},
   "outputs": [
    {
     "name": "stdout",
     "output_type": "stream",
     "text": [
      "Arquivo submission_final.csv gerado com sucesso!\n"
     ]
    }
   ],
   "source": [
    "# Recupera o melhor modelo encontrado pelo RandomizedSearchCV\n",
    "best_model = random_search.best_estimator_\n",
    "\n",
    "# Faz a predição nos dados de teste usando o modelo ajustado\n",
    "test_preds = best_model.predict(X_test)\n",
    "\n",
    "# Cria uma cópia do DataFrame de submission para evitar sobrescrever o original\n",
    "out = submission.copy()\n",
    "\n",
    "# Atribui as predições à coluna 'labels' do DataFrame de submission\n",
    "out['labels'] = test_preds\n",
    "\n",
    "# Salva o DataFrame atualizado em um arquivo CSV, sem incluir o índice\n",
    "out.to_csv('submission_final.csv', index=False)\n",
    "\n",
    "# Mensagem confirmando que o arquivo foi gerado\n",
    "print(\"Arquivo submission_final.csv gerado com sucesso!\")"
   ]
  }
 ],
 "metadata": {
  "kernelspec": {
   "display_name": "Python 3",
   "language": "python",
   "name": "python3"
  },
  "language_info": {
   "codemirror_mode": {
    "name": "ipython",
    "version": 3
   },
   "file_extension": ".py",
   "mimetype": "text/x-python",
   "name": "python",
   "nbconvert_exporter": "python",
   "pygments_lexer": "ipython3",
   "version": "3.13.3"
  }
 },
 "nbformat": 4,
 "nbformat_minor": 5
}
